{
 "cells": [
  {
   "cell_type": "markdown",
   "metadata": {},
   "source": [
    "Data Visualization II\n",
    " 1. Use the inbuilt dataset 'titanic' as used in the above problem. Plot a box plot for\n",
    "distribution of age with respect to each gender along with the information about whether\n",
    "they survived or not. (Column names : 'sex' and 'age') 2. Write observations on the\n",
    "inference from the above statistics"
   ]
  },
  {
   "cell_type": "code",
   "execution_count": null,
   "metadata": {},
   "outputs": [],
   "source": []
  }
 ],
 "metadata": {
  "language_info": {
   "name": "python"
  }
 },
 "nbformat": 4,
 "nbformat_minor": 2
}
