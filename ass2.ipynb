{
 "cells": [
  {
   "cell_type": "markdown",
   "metadata": {},
   "source": [
    "Create an “Academic performance” dataset of students and perform the following\n",
    "operations using Python. \n",
    "1. Scan all variables for missing values and inconsistencies. If there are missing values and/or inconsistencies, use any of the suitable techniques to deal with them. \n",
    "2. Scan all numeric variables for outliers. If there are outliers, use any of the suitable techniques to deal with them. \n",
    "3. Apply data transformations on at least one of the variables. The purpose of this transformation should be one of the following reasons: to change the scale for better understanding of the variable, to convert a non-linear relation into a linear one, or to decrease the skewness and convert the distribution into a normal\n",
    "distribution. Reason and document your approach properly."
   ]
  },
  {
   "cell_type": "code",
   "execution_count": 2,
   "metadata": {},
   "outputs": [],
   "source": [
    "import numpy as np \n",
    "import pandas as pd \n",
    "import matplotlib.pyplot as plt \n",
    "import seaborn as sns"
   ]
  },
  {
   "cell_type": "code",
   "execution_count": 1,
   "metadata": {},
   "outputs": [],
   "source": [
    "# creatation of academic dataset \n",
    "\n",
    "data = {\"ID\": [1, 2, 3, 4, 5, 6, 7, 8, 9, 10],\n",
    "        \"Name\" : [\"Abhishek\", \"Amit\", \"Ankit\", \"Anshul\", \"Anuj\", \"Ashish\", \"Ashok\", \"Bhupesh\", \"Bhuvan\", \"Brijesh\"],\n",
    "        \"Age\" : [18, 19, 20, 21, 22, 23, 24, 25, 26, 27],\n",
    "        \"Class\" : [\"FE\", \"SE\", \"TE\", \"BE\", \"FE\", \"SE\", \"TE\", \"BE\", \"FE\", \"SE\"],\n",
    "        \"Branch\" : [\"CSE\", \"IT\", \"ME\", \"CE\", \"CSE\", \"IT\", \"ME\", \"CE\", \"CSE\", \"IT\"], \n",
    "        \"GPA\" : [7.5, 8.5, 9.5, 8.0, 7.0, 8.0, 9.0, 8.5, 7.5, 8.5], \n",
    "        \"Test_Scores\" : [80, 85, 90, 85, 70, 80, 90, 85, 80, 85], \n",
    "        \"Attendance\" : [80, 85, 90, 85, 70, 80, 90, 85, 80, 85]\n",
    "        }"
   ]
  },
  {
   "cell_type": "code",
   "execution_count": 3,
   "metadata": {},
   "outputs": [
    {
     "name": "stdout",
     "output_type": "stream",
     "text": [
      "Dataset created successfully\n"
     ]
    }
   ],
   "source": [
    "df = pd.DataFrame(data) \n",
    "df.to_csv(\"academic_dataset.csv\", index = False)\n",
    "print(\"Dataset created successfully\")"
   ]
  },
  {
   "cell_type": "code",
   "execution_count": 4,
   "metadata": {},
   "outputs": [
    {
     "data": {
      "text/plain": [
       "ID             0\n",
       "Name           0\n",
       "Age            0\n",
       "Class          0\n",
       "Branch         0\n",
       "GPA            0\n",
       "Test_Scores    0\n",
       "Attendance     0\n",
       "dtype: int64"
      ]
     },
     "execution_count": 4,
     "metadata": {},
     "output_type": "execute_result"
    }
   ],
   "source": [
    "df.isnull().sum() "
   ]
  },
  {
   "cell_type": "code",
   "execution_count": 5,
   "metadata": {},
   "outputs": [
    {
     "name": "stdout",
     "output_type": "stream",
     "text": [
      "<class 'pandas.core.frame.DataFrame'>\n",
      "RangeIndex: 10 entries, 0 to 9\n",
      "Data columns (total 8 columns):\n",
      " #   Column       Non-Null Count  Dtype  \n",
      "---  ------       --------------  -----  \n",
      " 0   ID           10 non-null     int64  \n",
      " 1   Name         10 non-null     object \n",
      " 2   Age          10 non-null     int64  \n",
      " 3   Class        10 non-null     object \n",
      " 4   Branch       10 non-null     object \n",
      " 5   GPA          10 non-null     float64\n",
      " 6   Test_Scores  10 non-null     int64  \n",
      " 7   Attendance   10 non-null     int64  \n",
      "dtypes: float64(1), int64(4), object(3)\n",
      "memory usage: 772.0+ bytes\n"
     ]
    }
   ],
   "source": [
    "df.info() "
   ]
  },
  {
   "cell_type": "code",
   "execution_count": 6,
   "metadata": {},
   "outputs": [
    {
     "data": {
      "text/html": [
       "<div>\n",
       "<style scoped>\n",
       "    .dataframe tbody tr th:only-of-type {\n",
       "        vertical-align: middle;\n",
       "    }\n",
       "\n",
       "    .dataframe tbody tr th {\n",
       "        vertical-align: top;\n",
       "    }\n",
       "\n",
       "    .dataframe thead th {\n",
       "        text-align: right;\n",
       "    }\n",
       "</style>\n",
       "<table border=\"1\" class=\"dataframe\">\n",
       "  <thead>\n",
       "    <tr style=\"text-align: right;\">\n",
       "      <th></th>\n",
       "      <th>ID</th>\n",
       "      <th>Age</th>\n",
       "      <th>GPA</th>\n",
       "      <th>Test_Scores</th>\n",
       "      <th>Attendance</th>\n",
       "    </tr>\n",
       "  </thead>\n",
       "  <tbody>\n",
       "    <tr>\n",
       "      <th>count</th>\n",
       "      <td>10.00000</td>\n",
       "      <td>10.00000</td>\n",
       "      <td>10.000000</td>\n",
       "      <td>10.000000</td>\n",
       "      <td>10.000000</td>\n",
       "    </tr>\n",
       "    <tr>\n",
       "      <th>mean</th>\n",
       "      <td>5.50000</td>\n",
       "      <td>22.50000</td>\n",
       "      <td>8.200000</td>\n",
       "      <td>83.000000</td>\n",
       "      <td>83.000000</td>\n",
       "    </tr>\n",
       "    <tr>\n",
       "      <th>std</th>\n",
       "      <td>3.02765</td>\n",
       "      <td>3.02765</td>\n",
       "      <td>0.752773</td>\n",
       "      <td>5.868939</td>\n",
       "      <td>5.868939</td>\n",
       "    </tr>\n",
       "    <tr>\n",
       "      <th>min</th>\n",
       "      <td>1.00000</td>\n",
       "      <td>18.00000</td>\n",
       "      <td>7.000000</td>\n",
       "      <td>70.000000</td>\n",
       "      <td>70.000000</td>\n",
       "    </tr>\n",
       "    <tr>\n",
       "      <th>25%</th>\n",
       "      <td>3.25000</td>\n",
       "      <td>20.25000</td>\n",
       "      <td>7.625000</td>\n",
       "      <td>80.000000</td>\n",
       "      <td>80.000000</td>\n",
       "    </tr>\n",
       "    <tr>\n",
       "      <th>50%</th>\n",
       "      <td>5.50000</td>\n",
       "      <td>22.50000</td>\n",
       "      <td>8.250000</td>\n",
       "      <td>85.000000</td>\n",
       "      <td>85.000000</td>\n",
       "    </tr>\n",
       "    <tr>\n",
       "      <th>75%</th>\n",
       "      <td>7.75000</td>\n",
       "      <td>24.75000</td>\n",
       "      <td>8.500000</td>\n",
       "      <td>85.000000</td>\n",
       "      <td>85.000000</td>\n",
       "    </tr>\n",
       "    <tr>\n",
       "      <th>max</th>\n",
       "      <td>10.00000</td>\n",
       "      <td>27.00000</td>\n",
       "      <td>9.500000</td>\n",
       "      <td>90.000000</td>\n",
       "      <td>90.000000</td>\n",
       "    </tr>\n",
       "  </tbody>\n",
       "</table>\n",
       "</div>"
      ],
      "text/plain": [
       "             ID       Age        GPA  Test_Scores  Attendance\n",
       "count  10.00000  10.00000  10.000000    10.000000   10.000000\n",
       "mean    5.50000  22.50000   8.200000    83.000000   83.000000\n",
       "std     3.02765   3.02765   0.752773     5.868939    5.868939\n",
       "min     1.00000  18.00000   7.000000    70.000000   70.000000\n",
       "25%     3.25000  20.25000   7.625000    80.000000   80.000000\n",
       "50%     5.50000  22.50000   8.250000    85.000000   85.000000\n",
       "75%     7.75000  24.75000   8.500000    85.000000   85.000000\n",
       "max    10.00000  27.00000   9.500000    90.000000   90.000000"
      ]
     },
     "execution_count": 6,
     "metadata": {},
     "output_type": "execute_result"
    }
   ],
   "source": [
    "df.describe()"
   ]
  },
  {
   "cell_type": "code",
   "execution_count": 9,
   "metadata": {},
   "outputs": [
    {
     "data": {
      "image/png": "[encoded data removed]",
      "text/plain": [
       "<Figure size 640x480 with 1 Axes>"
      ]
     },
     "metadata": {},
     "output_type": "display_data"
    }
   ],
   "source": [
    "df[[\"Age\", \"GPA\", \"Test_Scores\", \"Attendance\"]].boxplot()\n",
    "plt.show() "
   ]
  },
  {
   "cell_type": "code",
   "execution_count": 12,
   "metadata": {},
   "outputs": [
    {
     "data": {
      "image/png": "[encoded data removed]",
      "text/plain": [
       "<Figure size 640x480 with 1 Axes>"
      ]
     },
     "metadata": {},
     "output_type": "display_data"
    }
   ],
   "source": [
    "plt.scatter(df[\"GPA\"], df[\"Test_Scores\"]) \n",
    "plt.xlabel(\"GPA\") \n",
    "plt.show() "
   ]
  },
  {
   "cell_type": "code",
   "execution_count": 14,
   "metadata": {},
   "outputs": [],
   "source": [
    "# remove the outliers \n",
    "df = df[df[\"GPA\"] < 9.0]\n",
    "df = df[df[\"Test_Scores\"] > 75]"
   ]
  },
  {
   "cell_type": "code",
   "execution_count": 15,
   "metadata": {},
   "outputs": [
    {
     "data": {
      "text/html": [
       "<div>\n",
       "<style scoped>\n",
       "    .dataframe tbody tr th:only-of-type {\n",
       "        vertical-align: middle;\n",
       "    }\n",
       "\n",
       "    .dataframe tbody tr th {\n",
       "        vertical-align: top;\n",
       "    }\n",
       "\n",
       "    .dataframe thead th {\n",
       "        text-align: right;\n",
       "    }\n",
       "</style>\n",
       "<table border=\"1\" class=\"dataframe\">\n",
       "  <thead>\n",
       "    <tr style=\"text-align: right;\">\n",
       "      <th></th>\n",
       "      <th>ID</th>\n",
       "      <th>Name</th>\n",
       "      <th>Age</th>\n",
       "      <th>Class</th>\n",
       "      <th>Branch</th>\n",
       "      <th>GPA</th>\n",
       "      <th>Test_Scores</th>\n",
       "      <th>Attendance</th>\n",
       "    </tr>\n",
       "  </thead>\n",
       "  <tbody>\n",
       "    <tr>\n",
       "      <th>0</th>\n",
       "      <td>1</td>\n",
       "      <td>Abhishek</td>\n",
       "      <td>18</td>\n",
       "      <td>FE</td>\n",
       "      <td>CSE</td>\n",
       "      <td>7.5</td>\n",
       "      <td>80</td>\n",
       "      <td>80</td>\n",
       "    </tr>\n",
       "    <tr>\n",
       "      <th>1</th>\n",
       "      <td>2</td>\n",
       "      <td>Amit</td>\n",
       "      <td>19</td>\n",
       "      <td>SE</td>\n",
       "      <td>IT</td>\n",
       "      <td>8.5</td>\n",
       "      <td>85</td>\n",
       "      <td>85</td>\n",
       "    </tr>\n",
       "    <tr>\n",
       "      <th>3</th>\n",
       "      <td>4</td>\n",
       "      <td>Anshul</td>\n",
       "      <td>21</td>\n",
       "      <td>BE</td>\n",
       "      <td>CE</td>\n",
       "      <td>8.0</td>\n",
       "      <td>85</td>\n",
       "      <td>85</td>\n",
       "    </tr>\n",
       "    <tr>\n",
       "      <th>5</th>\n",
       "      <td>6</td>\n",
       "      <td>Ashish</td>\n",
       "      <td>23</td>\n",
       "      <td>SE</td>\n",
       "      <td>IT</td>\n",
       "      <td>8.0</td>\n",
       "      <td>80</td>\n",
       "      <td>80</td>\n",
       "    </tr>\n",
       "    <tr>\n",
       "      <th>7</th>\n",
       "      <td>8</td>\n",
       "      <td>Bhupesh</td>\n",
       "      <td>25</td>\n",
       "      <td>BE</td>\n",
       "      <td>CE</td>\n",
       "      <td>8.5</td>\n",
       "      <td>85</td>\n",
       "      <td>85</td>\n",
       "    </tr>\n",
       "    <tr>\n",
       "      <th>8</th>\n",
       "      <td>9</td>\n",
       "      <td>Bhuvan</td>\n",
       "      <td>26</td>\n",
       "      <td>FE</td>\n",
       "      <td>CSE</td>\n",
       "      <td>7.5</td>\n",
       "      <td>80</td>\n",
       "      <td>80</td>\n",
       "    </tr>\n",
       "    <tr>\n",
       "      <th>9</th>\n",
       "      <td>10</td>\n",
       "      <td>Brijesh</td>\n",
       "      <td>27</td>\n",
       "      <td>SE</td>\n",
       "      <td>IT</td>\n",
       "      <td>8.5</td>\n",
       "      <td>85</td>\n",
       "      <td>85</td>\n",
       "    </tr>\n",
       "  </tbody>\n",
       "</table>\n",
       "</div>"
      ],
      "text/plain": [
       "   ID      Name  Age Class Branch  GPA  Test_Scores  Attendance\n",
       "0   1  Abhishek   18    FE    CSE  7.5           80          80\n",
       "1   2      Amit   19    SE     IT  8.5           85          85\n",
       "3   4    Anshul   21    BE     CE  8.0           85          85\n",
       "5   6    Ashish   23    SE     IT  8.0           80          80\n",
       "7   8   Bhupesh   25    BE     CE  8.5           85          85\n",
       "8   9    Bhuvan   26    FE    CSE  7.5           80          80\n",
       "9  10   Brijesh   27    SE     IT  8.5           85          85"
      ]
     },
     "execution_count": 15,
     "metadata": {},
     "output_type": "execute_result"
    }
   ],
   "source": [
    "df"
   ]
  },
  {
   "cell_type": "code",
   "execution_count": 16,
   "metadata": {},
   "outputs": [
    {
     "data": {
      "image/png": "[encoded data removed]",
      "text/plain": [
       "<Figure size 640x480 with 1 Axes>"
      ]
     },
     "metadata": {},
     "output_type": "display_data"
    }
   ],
   "source": [
    "df[[\"Age\", \"GPA\", \"Test_Scores\", \"Attendance\"]].boxplot()\n",
    "plt.show() "
   ]
  },
  {
   "cell_type": "code",
   "execution_count": null,
   "metadata": {},
   "outputs": [],
   "source": []
  }
 ],
 "metadata": {
  "kernelspec": {
   "display_name": "base",
   "language": "python",
   "name": "python3"
  },
  "language_info": {
   "codemirror_mode": {
    "name": "ipython",
    "version": 3
   },
   "file_extension": ".py",
   "mimetype": "text/x-python",
   "name": "python",
   "nbconvert_exporter": "python",
   "pygments_lexer": "ipython3",
   "version": "3.11.5"
  }
 },
 "nbformat": 4,
 "nbformat_minor": 2
}
