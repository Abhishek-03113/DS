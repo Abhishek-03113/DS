{
 "cells": [
  {
   "cell_type": "markdown",
   "metadata": {},
   "source": [
    "Descriptive Statistics - Measures of Central Tendency and variability\n",
    "Perform the following operations on any open source dataset (e.g., data.csv)\n",
    "1. Provide summary statistics (mean, median, minimum, maximum, standard deviation) for a\n",
    "Curriculum for Third Year of Artificial Intelligence and Data Science (2019 Course),\n",
    "Savitribai Phule Pune University\n",
    "http://collegecirculars.unipune.ac.in/sites/documents/Syllabus2022/Forms/AllItems.aspx\n",
    "#84/105 dataset (age, income etc.) with numeric variables grouped by one of the\n",
    "qualitative (categorical) variable. For example, if your categorical variable is age groups\n",
    "and quantitative variable is income, then provide summary statistics of income grouped by the age groups. Create a list that contains a numeric value for each response to the\n",
    "categorical variable. \n",
    "\n",
    "2. Write a Python program to display some basic statistical details like percentile, mean, standard deviation etc. of the species of ‘Iris-setosa’, ‘Iris-versicolor’ and ‘Iris-versicolor’ of iris.csv dataset. Provide the codes with outputs and explain everything\n",
    "that you do in this step"
   ]
  },
  {
   "cell_type": "code",
   "execution_count": null,
   "metadata": {},
   "outputs": [],
   "source": []
  },
  {
   "cell_type": "code",
   "execution_count": null,
   "metadata": {},
   "outputs": [],
   "source": []
  }
 ],
 "metadata": {
  "language_info": {
   "name": "python"
  }
 },
 "nbformat": 4,
 "nbformat_minor": 2
}
